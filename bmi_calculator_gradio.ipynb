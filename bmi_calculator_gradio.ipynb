{
 "cells": [
  {
   "cell_type": "code",
   "execution_count": 1,
   "id": "20030f9a",
   "metadata": {},
   "outputs": [
    {
     "name": "stdout",
     "output_type": "stream",
     "text": [
      "Collecting gradio\n",
      "  Downloading gradio-1.7.7-py3-none-any.whl (1.1 MB)\n",
      "Collecting analytics-python\n",
      "  Downloading analytics_python-1.2.9-py2.py3-none-any.whl (13 kB)\n",
      "Collecting flask-cachebuster\n",
      "  Downloading Flask-CacheBuster-1.0.0.tar.gz (3.1 kB)\n",
      "Requirement already satisfied: matplotlib in c:\\users\\dell\\appdata\\roaming\\python\\python38\\site-packages (from gradio) (3.2.1)\n",
      "Requirement already satisfied: numpy in c:\\users\\dell\\appdata\\roaming\\python\\python38\\site-packages (from gradio) (1.18.3)\n",
      "Requirement already satisfied: Flask>=1.1.1 in c:\\users\\dell\\appdata\\roaming\\python\\python38\\site-packages (from gradio) (1.1.2)\n",
      "Requirement already satisfied: pillow in c:\\users\\dell\\.conda\\envs\\deeplearning\\lib\\site-packages (from gradio) (8.2.0)\n",
      "Requirement already satisfied: pandas in c:\\users\\dell\\appdata\\roaming\\python\\python38\\site-packages (from gradio) (1.0.3)\n",
      "Collecting paramiko\n",
      "  Downloading paramiko-2.7.2-py2.py3-none-any.whl (206 kB)\n",
      "Requirement already satisfied: Flask-Cors>=3.0.8 in c:\\users\\dell\\appdata\\roaming\\python\\python38\\site-packages (from gradio) (3.0.8)\n",
      "Collecting Flask-Login\n",
      "  Downloading Flask_Login-0.5.0-py2.py3-none-any.whl (16 kB)\n",
      "Collecting markdown2\n",
      "  Downloading markdown2-2.4.0-py2.py3-none-any.whl (34 kB)\n",
      "Requirement already satisfied: requests in c:\\users\\dell\\.conda\\envs\\deeplearning\\lib\\site-packages (from gradio) (2.25.1)\n",
      "Collecting ffmpy\n",
      "  Downloading ffmpy-0.3.0.tar.gz (4.8 kB)\n",
      "Collecting pycryptodome\n",
      "  Downloading pycryptodome-3.10.1-cp35-abi3-win_amd64.whl (1.6 MB)\n",
      "Requirement already satisfied: scipy in c:\\users\\dell\\appdata\\roaming\\python\\python38\\site-packages (from gradio) (1.4.1)\n",
      "Requirement already satisfied: itsdangerous>=0.24 in c:\\users\\dell\\.conda\\envs\\deeplearning\\lib\\site-packages (from Flask>=1.1.1->gradio) (1.1.0)\n",
      "Requirement already satisfied: Jinja2>=2.10.1 in c:\\users\\dell\\appdata\\roaming\\python\\python38\\site-packages (from Flask>=1.1.1->gradio) (2.11.2)\n",
      "Requirement already satisfied: Werkzeug>=0.15 in c:\\users\\dell\\appdata\\roaming\\python\\python38\\site-packages (from Flask>=1.1.1->gradio) (1.0.1)\n",
      "Requirement already satisfied: click>=5.1 in c:\\users\\dell\\appdata\\roaming\\python\\python38\\site-packages (from Flask>=1.1.1->gradio) (7.1.1)\n",
      "Requirement already satisfied: Six in c:\\users\\dell\\appdata\\roaming\\python\\python38\\site-packages (from Flask-Cors>=3.0.8->gradio) (1.14.0)\n",
      "Requirement already satisfied: MarkupSafe>=0.23 in c:\\users\\dell\\.conda\\envs\\deeplearning\\lib\\site-packages (from Jinja2>=2.10.1->Flask>=1.1.1->gradio) (1.1.1)\n",
      "Requirement already satisfied: python-dateutil>2.1 in c:\\users\\dell\\.conda\\envs\\deeplearning\\lib\\site-packages (from analytics-python->gradio) (2.8.1)\n",
      "Requirement already satisfied: idna<3,>=2.5 in c:\\users\\dell\\appdata\\roaming\\python\\python38\\site-packages (from requests->gradio) (2.9)\n",
      "Requirement already satisfied: urllib3<1.27,>=1.21.1 in c:\\users\\dell\\.conda\\envs\\deeplearning\\lib\\site-packages (from requests->gradio) (1.26.4)\n",
      "Requirement already satisfied: certifi>=2017.4.17 in c:\\users\\dell\\appdata\\roaming\\python\\python38\\site-packages (from requests->gradio) (2019.11.28)\n",
      "Requirement already satisfied: chardet<5,>=3.0.2 in c:\\users\\dell\\.conda\\envs\\deeplearning\\lib\\site-packages (from requests->gradio) (3.0.4)\n",
      "Requirement already satisfied: cycler>=0.10 in c:\\users\\dell\\.conda\\envs\\deeplearning\\lib\\site-packages (from matplotlib->gradio) (0.10.0)\n",
      "Requirement already satisfied: pyparsing!=2.0.4,!=2.1.2,!=2.1.6,>=2.0.1 in c:\\users\\dell\\.conda\\envs\\deeplearning\\lib\\site-packages (from matplotlib->gradio) (2.4.7)\n",
      "Requirement already satisfied: kiwisolver>=1.0.1 in c:\\users\\dell\\appdata\\roaming\\python\\python38\\site-packages (from matplotlib->gradio) (1.2.0)\n",
      "Requirement already satisfied: pytz>=2017.2 in c:\\users\\dell\\.conda\\envs\\deeplearning\\lib\\site-packages (from pandas->gradio) (2021.1)\n",
      "Collecting pynacl>=1.0.1\n",
      "  Downloading PyNaCl-1.4.0-cp38-cp38-win_amd64.whl (206 kB)\n",
      "Requirement already satisfied: cryptography>=2.5 in c:\\users\\dell\\.conda\\envs\\deeplearning\\lib\\site-packages (from paramiko->gradio) (3.4.7)\n",
      "Collecting bcrypt>=3.1.3\n",
      "  Downloading bcrypt-3.2.0-cp36-abi3-win_amd64.whl (28 kB)\n",
      "Requirement already satisfied: cffi>=1.1 in c:\\users\\dell\\.conda\\envs\\deeplearning\\lib\\site-packages (from bcrypt>=3.1.3->paramiko->gradio) (1.14.5)\n",
      "Requirement already satisfied: pycparser in c:\\users\\dell\\.conda\\envs\\deeplearning\\lib\\site-packages (from cffi>=1.1->bcrypt>=3.1.3->paramiko->gradio) (2.20)\n",
      "Building wheels for collected packages: ffmpy, flask-cachebuster\n",
      "  Building wheel for ffmpy (setup.py): started\n",
      "  Building wheel for ffmpy (setup.py): finished with status 'done'\n",
      "  Created wheel for ffmpy: filename=ffmpy-0.3.0-py3-none-any.whl size=4709 sha256=f345a09fca55a2bc3b72a27329a1612c5d35259d1b93c835e24ef13752b7210e\n",
      "  Stored in directory: c:\\users\\dell\\appdata\\local\\pip\\cache\\wheels\\ff\\5b\\59\\913b443e7369dc04b61f607a746b6f7d83fb65e2e19fcc958d\n",
      "  Building wheel for flask-cachebuster (setup.py): started\n",
      "  Building wheel for flask-cachebuster (setup.py): finished with status 'done'\n",
      "  Created wheel for flask-cachebuster: filename=Flask_CacheBuster-1.0.0-py3-none-any.whl size=3372 sha256=a58586ef59ca5d344304948e86262a58f8a95be9a5bfa1ac4671f1f0c4a1f23a\n",
      "  Stored in directory: c:\\users\\dell\\appdata\\local\\pip\\cache\\wheels\\27\\1b\\de\\34a3e06893944387266e2e7e93d33243589f01ac1b451e367b\n",
      "Successfully built ffmpy flask-cachebuster\n",
      "Installing collected packages: pynacl, bcrypt, pycryptodome, paramiko, markdown2, Flask-Login, flask-cachebuster, ffmpy, analytics-python, gradio\n",
      "Successfully installed Flask-Login-0.5.0 analytics-python-1.2.9 bcrypt-3.2.0 ffmpy-0.3.0 flask-cachebuster-1.0.0 gradio-1.7.7 markdown2-2.4.0 paramiko-2.7.2 pycryptodome-3.10.1 pynacl-1.4.0\n"
     ]
    }
   ],
   "source": [
    "!pip install gradio"
   ]
  },
  {
   "cell_type": "code",
   "execution_count": 2,
   "id": "89be3f2c",
   "metadata": {},
   "outputs": [
    {
     "name": "stdout",
     "output_type": "stream",
     "text": [
      "Running locally at: http://127.0.0.1:7860/\n",
      "To create a public link, set `share=True` in `launch()`.\n",
      "Interface loading below...\n"
     ]
    },
    {
     "data": {
      "text/html": [
       "\n",
       "        <iframe\n",
       "            width=\"1000\"\n",
       "            height=\"500\"\n",
       "            src=\"http://127.0.0.1:7860/\"\n",
       "            frameborder=\"0\"\n",
       "            allowfullscreen\n",
       "        ></iframe>\n",
       "        "
      ],
      "text/plain": [
       "<IPython.lib.display.IFrame at 0x19b9007ff10>"
      ]
     },
     "metadata": {},
     "output_type": "display_data"
    },
    {
     "data": {
      "text/plain": [
       "(<Flask 'gradio.networking'>, 'http://127.0.0.1:7860/', None)"
      ]
     },
     "execution_count": 2,
     "metadata": {},
     "output_type": "execute_result"
    }
   ],
   "source": [
    "import gradio as gr\n",
    "\n",
    "def greet(name):\n",
    "  return \"Hello \" + name + \"!\"\n",
    "\n",
    "iface = gr.Interface(fn=greet, inputs=\"text\", outputs=\"text\")\n",
    "iface.launch()"
   ]
  },
  {
   "cell_type": "code",
   "execution_count": 7,
   "id": "3d1e1907",
   "metadata": {},
   "outputs": [],
   "source": [
    "def calculate_bmi(name,height_in_cm,weight):\n",
    "  BMI=weight/(height_in_cm/100)**2\n",
    "  output1='Hey %s, Your bmi is %s'%(name,BMI)\n",
    "  if BMI <= 18.4:\n",
    "    output2=\"You are underweight.\"\n",
    "  elif BMI <= 24.9:\n",
    "    output2=\"You are healthy.\"\n",
    "  elif BMI <= 29.9:\n",
    "    output2=\"You are over weight.\"\n",
    "  else:\n",
    "    output2=\"You are severely over weight.\"\n",
    "  return output1,output2"
   ]
  },
  {
   "cell_type": "code",
   "execution_count": 8,
   "id": "a47f972d",
   "metadata": {},
   "outputs": [
    {
     "name": "stdout",
     "output_type": "stream",
     "text": [
      "Running locally at: http://127.0.0.1:7864/\n",
      "This share link will expire in 24 hours. If you need a permanent link, visit: https://gradio.app/introducing-hosted (NEW!)\n",
      "Running on External URL: https://56046.gradio.app\n",
      "Interface loading below...\n"
     ]
    },
    {
     "data": {
      "text/html": [
       "\n",
       "        <iframe\n",
       "            width=\"1000\"\n",
       "            height=\"500\"\n",
       "            src=\"https://56046.gradio.app\"\n",
       "            frameborder=\"0\"\n",
       "            allowfullscreen\n",
       "        ></iframe>\n",
       "        "
      ],
      "text/plain": [
       "<IPython.lib.display.IFrame at 0x19b90015760>"
      ]
     },
     "metadata": {},
     "output_type": "display_data"
    },
    {
     "name": "stdout",
     "output_type": "stream",
     "text": [
      "Tip: Add interpretation to your model by simply adding `interpretation=\"default\"` to `Interface()`\n"
     ]
    },
    {
     "data": {
      "text/plain": [
       "(<Flask 'gradio.networking'>,\n",
       " 'http://127.0.0.1:7864/',\n",
       " 'https://56046.gradio.app')"
      ]
     },
     "execution_count": 8,
     "metadata": {},
     "output_type": "execute_result"
    }
   ],
   "source": [
    "bmi_cal=gr.Interface(fn=calculate_bmi,inputs=['text','number',gr.inputs.Slider(0,100)],outputs=['number','text'])\n",
    "bmi_cal.launch(share=True)"
   ]
  },
  {
   "cell_type": "code",
   "execution_count": null,
   "id": "0e735a12",
   "metadata": {},
   "outputs": [],
   "source": []
  }
 ],
 "metadata": {
  "kernelspec": {
   "display_name": "Python 3",
   "language": "python",
   "name": "python3"
  },
  "language_info": {
   "codemirror_mode": {
    "name": "ipython",
    "version": 3
   },
   "file_extension": ".py",
   "mimetype": "text/x-python",
   "name": "python",
   "nbconvert_exporter": "python",
   "pygments_lexer": "ipython3",
   "version": "3.8.8"
  }
 },
 "nbformat": 4,
 "nbformat_minor": 5
}
